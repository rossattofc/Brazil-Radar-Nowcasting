{
 "cells": [
  {
   "cell_type": "code",
   "execution_count": null,
   "id": "1d062f53",
   "metadata": {},
   "outputs": [],
   "source": [
    "%matplotlib inline\n",
    "\n",
    "import os\n",
    "import numpy as np\n",
    "import pyart\n",
    "import matplotlib.pyplot as plt\n",
    "import matplotlib.gridspec as gridspec\n",
    "import matplotlib.image as mpimg\n",
    "import matplotlib\n",
    "import pyart\n",
    "from PIL import Image\n",
    "from image_similarity_measures.quality_metrics import rmse, ssim, psnr, fsim, issm, sre, sam, uiq"
   ]
  },
  {
   "cell_type": "code",
   "execution_count": null,
   "id": "0205da98",
   "metadata": {},
   "outputs": [],
   "source": [
    "entrada = np.load(r'path/to/entrada.npy')\n",
    "verdade = np.load(r'path/to/verdade.npy')\n",
    "previsao = np.load(r'path/to/previsao.npy')\n",
    "\n",
    "#cmap = matplotlib.cm.get_cmap(\"pyart_NWSRef\", 6)"
   ]
  },
  {
   "cell_type": "markdown",
   "id": "16eb7f7c",
   "metadata": {},
   "source": [
    "# Imagens - Ground truth"
   ]
  },
  {
   "cell_type": "code",
   "execution_count": null,
   "id": "66ecf1e2",
   "metadata": {},
   "outputs": [],
   "source": [
    "# Certifique-se de que a pasta de destino existe\n",
    "if not os.path.exists('caminho/para/pasta/destino'):\n",
    "    os.makedirs('caminho/para/pasta/destino')\n",
    "\n",
    "# Loop para percorrer as imagens e salvar\n",
    "for i in range(10):\n",
    "    plt.axis('off')\n",
    "    plt.imshow(verdade[0, i, :, :], cmap='pyart_NWSRef')\n",
    "    plt.savefig(f'caminho/para/pasta/destino/imagem_{i}.png', bbox_inches='tight', pad_inches=0)\n",
    "    plt.clf()  # Limpa a figura atual para a próxima iteração\n",
    "\n",
    "print(\"Imagens salvas com sucesso!\")"
   ]
  },
  {
   "cell_type": "markdown",
   "id": "fab1bc59",
   "metadata": {},
   "source": [
    "# Imagens - Previsão gerada"
   ]
  },
  {
   "cell_type": "code",
   "execution_count": null,
   "id": "07f719b7",
   "metadata": {},
   "outputs": [],
   "source": [
    "# Certifique-se de que a pasta de destino existe\n",
    "if not os.path.exists('caminho/para/pasta/destino'):\n",
    "    os.makedirs('caminho/para/pasta/destino')\n",
    "\n",
    "# Loop para percorrer as imagens e salvar\n",
    "for i in range(10):\n",
    "    plt.axis('off')\n",
    "    plt.imshow(previsao[0, i+9, :, 0], cmap='pyart_NWSRef')\n",
    "    plt.savefig(f'caminho/para/pasta/destino/imagem_{i}.png', bbox_inches='tight', pad_inches=0)\n",
    "    plt.clf()  # Limpa a figura atual para a próxima iteração\n",
    "\n",
    "print(\"Imagens salvas com sucesso!\")"
   ]
  },
  {
   "cell_type": "markdown",
   "id": "f462c83a",
   "metadata": {},
   "source": [
    "# Imagens - Entrada"
   ]
  },
  {
   "cell_type": "code",
   "execution_count": null,
   "id": "f2fa1186",
   "metadata": {},
   "outputs": [],
   "source": [
    "# Certifique-se de que a pasta de destino existe\n",
    "if not os.path.exists('caminho/para/pasta/destino'):\n",
    "    os.makedirs('caminho/para/pasta/destino')\n",
    "\n",
    "# Loop para percorrer as imagens e salvar\n",
    "for i in range(10):\n",
    "    plt.axis('off')\n",
    "    plt.imshow(entrada[0, i, :, :], cmap='pyart_NWSRef')\n",
    "    plt.savefig(f'caminho/para/pasta/destino/imagem_{i}.png', bbox_inches='tight', pad_inches=0)\n",
    "    plt.clf()  # Limpa a figura atual para a próxima iteração\n",
    "\n",
    "print(\"Imagens salvas com sucesso!\")"
   ]
  },
  {
   "cell_type": "markdown",
   "id": "ee4b6b90",
   "metadata": {},
   "source": [
    "# Geração das imagens para a tese"
   ]
  },
  {
   "cell_type": "code",
   "execution_count": null,
   "id": "5f13c40f",
   "metadata": {},
   "outputs": [],
   "source": [
    "# Comparação entre imagem x da verdade terrestre com x da previsão. \n",
    "# Caminho para as imagens\n",
    "caminho_imagens = [\n",
    "    r'path/to/gt1',\n",
    "    r'path/to/pred1',\n",
    "    r'path/to/gt2',\n",
    "    r'path/to/pred2',\n",
    "]"
   ]
  },
  {
   "cell_type": "code",
   "execution_count": null,
   "id": "8e800af1",
   "metadata": {},
   "outputs": [],
   "source": [
    "# Títulos das colunas\n",
    "titulo_coluna1 = \"Ground Truth\"\n",
    "titulo_coluna2 = \"Previsão\"\n",
    "\n",
    "# Legendas para cada linha\n",
    "legendas = [\n",
    "    \"Hora x\",\n",
    "    \"Hora y\",\n",
    "]\n",
    "\n",
    "# Caminho da imagem da escala\n",
    "\n",
    "caminho_imagem_central = (r'escala/dbz/utilizada')"
   ]
  },
  {
   "cell_type": "code",
   "execution_count": null,
   "id": "f2e1be6b",
   "metadata": {},
   "outputs": [],
   "source": [
    "# Configurações do plot\n",
    "num_linhas = 2\n",
    "num_colunas = 2\n",
    "fig = plt.figure(figsize=(8, 6))\n",
    "gs = gridspec.GridSpec(num_linhas, num_colunas, width_ratios=[1, 1.2], wspace=0.05, hspace=0.3)\n",
    "\n",
    "# Ajustar margens da figura\n",
    "fig.subplots_adjust(left=0.05, right=0.95, bottom=0.1, top=0.9)\n",
    "\n",
    "# Iterar pelas imagens\n",
    "for i, caminho_imagem in enumerate(caminho_imagens):\n",
    "    linha = i // num_colunas\n",
    "    coluna = i % num_colunas\n",
    "    ax = fig.add_subplot(gs[linha, coluna])\n",
    "\n",
    "    # Carregar a imagem\n",
    "    imagem = plt.imread(caminho_imagem)\n",
    "\n",
    "    # Plotar a imagem\n",
    "    ax.imshow(imagem)\n",
    "    ax.axis(\"off\")\n",
    "\n",
    "    # Adicionar títulos\n",
    "    if coluna == 0:\n",
    "        ax.set_title(titulo_coluna1)\n",
    "    else:\n",
    "        ax.set_title(titulo_coluna2)\n",
    "\n",
    "    # Adicionar legendas\n",
    "    ax.text(0.5, -0.1, legendas[linha], ha='center', va='center', fontsize=10, transform=ax.transAxes)\n",
    "\n",
    "# Adicionar imagem central\n",
    "ax_central = fig.add_axes([0.15, 0.15, 0.70, 0.70])  # Aumentar a largura e altura da imagem central\n",
    "imagem_central = plt.imread(caminho_imagem_central)\n",
    "ax_central.imshow(imagem_central)\n",
    "ax_central.axis(\"off\")\n",
    "\n",
    "# Exibir o plot\n",
    "plt.show()"
   ]
  },
  {
   "cell_type": "markdown",
   "id": "a098d39e",
   "metadata": {},
   "source": [
    "# Cálculo das métricas"
   ]
  },
  {
   "cell_type": "code",
   "execution_count": null,
   "id": "a2293c8b",
   "metadata": {},
   "outputs": [],
   "source": [
    "# Compara todas as imagens uma pasta x com todas as imagens de uma pasta y\n",
    "# Diretórios das pastas de imagens\n",
    "pasta1 = (r'path/to/gt/folder')\n",
    "pasta2 = (r'path/to/pred/folder')\n",
    "\n",
    "# Obter a lista de nomes de arquivos em ambas as pastas\n",
    "arquivos_pasta1 = os.listdir(pasta1)\n",
    "arquivos_pasta2 = os.listdir(pasta2)\n",
    "\n",
    "# Iterar sobre a lista de arquivos de uma das pastas\n",
    "for arquivo in arquivos_pasta1:\n",
    "    # Verificar se o arquivo também existe na outra pasta\n",
    "    if arquivo in arquivos_pasta2:\n",
    "        # Caminho completo para as imagens correspondentes\n",
    "        caminho_imagem1 = os.path.join(pasta1, arquivo)\n",
    "        caminho_imagem2 = os.path.join(pasta2, arquivo)\n",
    "        \n",
    "        # Carregar as imagens\n",
    "        imagem1 = Image.open(caminho_imagem1)\n",
    "        imagem2 = Image.open(caminho_imagem2)\n",
    "\n",
    "        # Converter as imagens para arrays numpy\n",
    "        array_imagem1 = np.array(imagem1)\n",
    "        array_imagem2 = np.array(imagem2)\n",
    "\n",
    "        # Calcular as métricas\n",
    "        resultado_rmse = rmse(array_imagem1, array_imagem2)\n",
    "        resultado_ssim = ssim(array_imagem1, array_imagem2)\n",
    "        #resultado_psnr = psnr(array_imagem1, array_imagem2)\n",
    "        #resultado_sam = sam(array_imagem1, array_imagem2)\n",
    "        #resultado_uiq = uiq(array_imagem1, array_imagem2)\n",
    "        #resultado_fsim = fsim(array_imagem1, array_imagem2)\n",
    "        #resultado_issm = issm(array_imagem1, array_imagem2)\n",
    "        #resultado_sre = sre(array_imagem1, array_imagem2)\n",
    "        resultado_mae = np.mean(np.abs(array_imagem1 - array_imagem2))\n",
    "\n",
    "        # Imprimir os resultados para a imagem atual\n",
    "        print(\"Resultados para\", arquivo)\n",
    "        print(\"RMSE:\", resultado_rmse)\n",
    "        print(\"SSIM:\", resultado_ssim)\n",
    "        #print(\"PSNR:\", resultado_psnr)\n",
    "        #print(\"SAM:\", resultado_sam)\n",
    "        #print(\"UIQ:\", resultado_uiq)\n",
    "        #print(\"FSIM:\", resultado_fsim)\n",
    "        #print(\"ISSM:\", resultado_issm)\n",
    "        #print(\"SRE:\", resultado_sre)\n",
    "        print(\"MAE:\", resultado_mae)\n",
    "        print(\"----------------------------------------\")"
   ]
  },
  {
   "cell_type": "markdown",
   "id": "da421f56",
   "metadata": {},
   "source": [
    "# Imagens de entrada"
   ]
  },
  {
   "cell_type": "code",
   "execution_count": null,
   "id": "dd63e3af",
   "metadata": {
    "scrolled": true
   },
   "outputs": [],
   "source": [
    "# Caminho para a pasta com as imagens\n",
    "caminho_pasta = (r'path/to/input/images')\n",
    "\n",
    "# Lista todos os arquivos na pasta\n",
    "arquivos = os.listdir(caminho_pasta)\n",
    "\n",
    "# Filtra apenas os arquivos de imagem (por extensão)\n",
    "imagens = [arquivo for arquivo in arquivos if arquivo.endswith('.png') or arquivo.endswith('.jpg')]\n",
    "\n",
    "# Lista de legendas para cada imagem (substitua com suas legendas desejadas)\n",
    "#legendas = ['21h20', '21h26', '21h32', '21h38', '21h44',\n",
    "            #'21h50', '21h56', '22h02', '22h08', '22h14',\n",
    "            #'22h20', '22h26', '22h32', '22h38', '22h44',\n",
    "            #'22h50', '22h56', '23h02', '23h08', '23h14']\n",
    "\n",
    "# Cria uma figura com duas linhas e cinco colunas\n",
    "fig, axs = plt.subplots(2, 5, figsize=(12, 6))\n",
    "\n",
    "# Itera sobre as imagens e adiciona cada uma ao plot\n",
    "for i, imagem in enumerate(imagens):\n",
    "    # Calcula as coordenadas do subplot para a imagem atual\n",
    "    linha = i // 5  # Índice da linha\n",
    "    coluna = i % 5  # Índice da coluna\n",
    "    \n",
    "    # Carrega a imagem e adiciona ao subplot correspondente\n",
    "    img = plt.imread(os.path.join(caminho_pasta, imagem))\n",
    "    axs[linha, coluna].imshow(img)\n",
    "    axs[linha, coluna].axis('off')  # Desativa os eixos\n",
    "    \n",
    "     # Adiciona uma legenda personalizada embaixo da imagem\n",
    "    #axs[linha, coluna].text(0.5, -0.15, legendas[i], transform=axs[linha, coluna].transAxes,\n",
    "                            #fontsize=10, ha='center')\n",
    "    \n",
    "# Ajusta os espaçamentos entre os subplots\n",
    "plt.tight_layout()\n",
    "\n",
    "# Adiciona um título geral acima do conjunto de subplots\n",
    "fig.suptitle('Entrada', fontsize=14)\n",
    "\n",
    "# Exibe o plot\n",
    "plt.show()"
   ]
  }
 ],
 "metadata": {
  "kernelspec": {
   "display_name": "Python 3 (ipykernel)",
   "language": "python",
   "name": "python3"
  },
  "language_info": {
   "codemirror_mode": {
    "name": "ipython",
    "version": 3
   },
   "file_extension": ".py",
   "mimetype": "text/x-python",
   "name": "python",
   "nbconvert_exporter": "python",
   "pygments_lexer": "ipython3",
   "version": "3.11.3"
  }
 },
 "nbformat": 4,
 "nbformat_minor": 5
}
